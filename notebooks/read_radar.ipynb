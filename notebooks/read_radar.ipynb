{
 "cells": [
  {
   "cell_type": "markdown",
   "id": "b6c652c4",
   "metadata": {},
   "source": [
    "# Read test radar test file and define gridding and interpolation scheme"
   ]
  },
  {
   "cell_type": "code",
   "execution_count": null,
   "id": "f1534257",
   "metadata": {},
   "outputs": [],
   "source": [
    "import xarray as xr\n",
    "from open_radar_data import DATASETS\n",
    "import xradar as xd\n",
    "import matplotlib.pyplot as plt\n",
    "import numpy as np\n",
    "\n",
    "import sys\n",
    "import os\n",
    "sys.path.append(os.path.dirname(os.getcwd()))\n",
    "import src.global_variables as global_vars\n",
    "import src.local_variables as local_vars"
   ]
  },
  {
   "cell_type": "markdown",
   "id": "c360656e",
   "metadata": {},
   "source": [
    "**Read the radar data**"
   ]
  },
  {
   "cell_type": "code",
   "execution_count": null,
   "id": "61d1e34b",
   "metadata": {},
   "outputs": [],
   "source": [
    "data_dir = local_vars.radar_file_dir\n",
    "# filename = data_dir + '/2024/06/01/rainbow5/HUR/240km_12ele_DP_PROD011.vol/2024060112000700dBZ.vol'\n",
    "filename = \"../data/01-06-2024/2024060112000700dBZ.vol\""
   ]
  },
  {
   "cell_type": "code",
   "execution_count": null,
   "id": "f5988f4f",
   "metadata": {},
   "outputs": [],
   "source": [
    "def load_all_elevations(filename, parameter=\"DBZH\"):\n",
    "    \"\"\"Load all 12 sweeps for one parameter\"\"\"\n",
    "    elevations = {}\n",
    "    for i in range(12):\n",
    "        ds = xr.open_dataset(filename, group=f\"sweep_{i}\", engine=\"rainbow\")\n",
    "        elevations[i] = ds\n",
    "    return elevations\n",
    "\n",
    "data = load_all_elevations(filename)"
   ]
  },
  {
   "cell_type": "markdown",
   "id": "5b89e606",
   "metadata": {},
   "source": [
    "**Plot lowest elevation**"
   ]
  },
  {
   "cell_type": "code",
   "execution_count": null,
   "id": "b24673ef",
   "metadata": {},
   "outputs": [],
   "source": [
    "range_vals = data[0].range.values  # shape (480,)\n",
    "azimuth_vals = data[0].azimuth.values  # shape (360,) \n",
    "dbzh_vals = data[0].DBZH.values  # shape (360, 480)\n",
    "\n",
    "fig, (ax1, ax2) = plt.subplots(1, 2, figsize=(15, 6))\n",
    "\n",
    "# Manual plot with imshow\n",
    "im1 = ax1.imshow(dbzh_vals, \n",
    "                 extent=[range_vals.min(), range_vals.max(), \n",
    "                        azimuth_vals.min(), azimuth_vals.max()],\n",
    "                 aspect='auto', \n",
    "                 origin='lower',\n",
    "                 cmap='viridis')\n",
    "ax1.set_xlabel('Range (m)')\n",
    "ax1.set_ylabel('Azimuth (degrees)')\n",
    "ax1.set_title('Manual imshow plot')\n",
    "plt.colorbar(im1, ax=ax1, label='DBZH (dBZ)')\n",
    "\n",
    "# Built-in xarray plot for comparison\n",
    "data[0].DBZH.plot(ax=ax2, cmap='viridis')\n",
    "ax2.set_title('Built-in xarray plot')\n",
    "\n",
    "plt.tight_layout()\n",
    "plt.show()"
   ]
  },
  {
   "cell_type": "markdown",
   "id": "884ac3b6",
   "metadata": {},
   "source": [
    "**Convert from polar to Cartesian coordinates**"
   ]
  },
  {
   "cell_type": "code",
   "execution_count": null,
   "id": "55fc16ae",
   "metadata": {},
   "outputs": [],
   "source": []
  },
  {
   "cell_type": "markdown",
   "id": "d3ae1c69",
   "metadata": {},
   "source": [
    "**Import grid**"
   ]
  },
  {
   "cell_type": "code",
   "execution_count": null,
   "id": "7392b8a4",
   "metadata": {},
   "outputs": [],
   "source": [
    "grid = np.load(\"../data/radar_hurum_grid_10x10_8km_spacing.npz\")\n",
    "x_grid = grid['x_bounds_m']\n",
    "y_grid = grid['y_bounds_m']\n",
    "z_grid = grid['z_levels_m']"
   ]
  },
  {
   "cell_type": "code",
   "execution_count": null,
   "id": "6e418273",
   "metadata": {},
   "outputs": [],
   "source": []
  },
  {
   "cell_type": "code",
   "execution_count": null,
   "id": "39ffa70a",
   "metadata": {},
   "outputs": [],
   "source": []
  },
  {
   "cell_type": "code",
   "execution_count": null,
   "id": "6f7ee3ff",
   "metadata": {},
   "outputs": [],
   "source": []
  },
  {
   "cell_type": "code",
   "execution_count": null,
   "id": "9f33fb12",
   "metadata": {},
   "outputs": [],
   "source": []
  },
  {
   "cell_type": "code",
   "execution_count": null,
   "id": "bb1cdbfb",
   "metadata": {},
   "outputs": [],
   "source": []
  },
  {
   "cell_type": "code",
   "execution_count": null,
   "id": "b431bcc5",
   "metadata": {},
   "outputs": [],
   "source": []
  },
  {
   "cell_type": "code",
   "execution_count": null,
   "id": "1a412b05",
   "metadata": {},
   "outputs": [],
   "source": [
    "rd = rd.xradar.georeference()\n",
    "rd.DBZH.plot(x=\"x\", y=\"y\")"
   ]
  },
  {
   "cell_type": "code",
   "execution_count": null,
   "id": "7a640b1c",
   "metadata": {},
   "outputs": [],
   "source": [
    "rd.range.values"
   ]
  },
  {
   "cell_type": "code",
   "execution_count": null,
   "id": "d5948d5f",
   "metadata": {},
   "outputs": [],
   "source": [
    "def pol2cart(rho, phi):\n",
    "   y = rho * np.cos(phi)\n",
    "   x = rho * np.sin(phi)\n",
    "   return x, y\n",
    "\n",
    "def to_cartesian(ds, resolution=1000):\n",
    "\n",
    "   rangestep = ds.range.head(2).diff(dim='range').values[0]\n",
    "   xi = np.arange(-ds.range.max() - rangestep/2, ds.range.max() + rangestep/2, resolution)\n",
    "   yi = np.arange(-ds.range.max() - rangestep/2, ds.range.max() + rangestep/2, resolution)\n",
    "   [XI, YI] = np.meshgrid(xi, yi)\n",
    "\n",
    "   [R, PHI] = np.meshgrid(ds.range, ds.azimuth*np.pi/180)\n",
    "   [X, Y] = pol2cart(R, PHI)\n",
    "\n",
    "   ds['x'] = xi\n",
    "   ds['y'] = yi\n",
    "   ds.x.attrs = {\"standard_name\": \"projection_x_coordinate\", \"units\": \"m\"}\n",
    "   ds.y.attrs = {\"standard_name\": \"projection_y_coordinate\", \"units\": \"m\"}\n",
    "\n",
    "   def griddata(da, dr, dazimuth):\n",
    "       zi = scipy.interpolate.griddata(np.c_[X.flatten(), Y.flatten()],\n",
    "                                       da.flatten(),\n",
    "                                       np.c_[XI.flatten(), YI.flatten()],\n",
    "                                       method='nearest')\n",
    "       zi = zi.reshape(len(xi), len(yi))\n",
    "       return zi\n",
    "\n",
    "   zi = xr.apply_ufunc(griddata, ds, ds.range, ds.azimuth,\n",
    "                       input_core_dims=[['azimuth','range'],['range'],['azimuth']],\n",
    "                       output_core_dims=[['x','y']],\n",
    "                       on_missing_core_dim='drop',\n",
    "                       keep_attrs=True)\n",
    "\n",
    "   #lon, lat = pyproj.Proj.from_crs(ds.crs_wkt.attrs['crs_wkt'], 'epsg:4326', always_xy=True).transform(*np.meshgrid(ds.x, ds.y))\n",
    "   for var in zi.data_vars:\n",
    "       zi[var].attrs['grid_mapping'] = 'crs_wkt'\n",
    "\n",
    "   zi = zi.where((zi.x**2 + zi.y**2) < ds.range.max()**2)\n",
    "   zi['time'] = ds.time.min()\n",
    "   zi = zi.set_coords(['time'])\n",
    "   zi = zi.expand_dims(dim='time', axis=0)\n",
    "   zi.encoding[\"unlimited_dims\"] = 'time'\n",
    "   zi = zi.drop_vars(zi.coords.keys() ^ ('x','y','time','latitude','longitude','altitude','crs_wkt'))\n",
    "   return zi"
   ]
  }
 ],
 "metadata": {
  "kernelspec": {
   "display_name": "pythom",
   "language": "python",
   "name": "python3"
  },
  "language_info": {
   "codemirror_mode": {
    "name": "ipython",
    "version": 3
   },
   "file_extension": ".py",
   "mimetype": "text/x-python",
   "name": "python",
   "nbconvert_exporter": "python",
   "pygments_lexer": "ipython3",
   "version": "3.11.11"
  }
 },
 "nbformat": 4,
 "nbformat_minor": 5
}

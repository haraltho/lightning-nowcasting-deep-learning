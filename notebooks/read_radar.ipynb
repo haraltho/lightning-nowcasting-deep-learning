{
 "cells": [
  {
   "cell_type": "markdown",
   "id": "b6c652c4",
   "metadata": {},
   "source": [
    "# Read test radar test file and define gridding and interpolation scheme"
   ]
  },
  {
   "cell_type": "code",
   "execution_count": null,
   "id": "f1534257",
   "metadata": {},
   "outputs": [],
   "source": [
    "import xarray as xr\n",
    "from open_radar_data import DATASETS\n",
    "import xradar as xd\n",
    "import matplotlib.pyplot as plt\n",
    "import numpy as np\n",
    "\n",
    "import sys\n",
    "import os\n",
    "sys.path.append(os.path.dirname(os.getcwd()))\n",
    "import src.global_variables as global_vars\n",
    "import src.local_variables as local_vars"
   ]
  },
  {
   "cell_type": "markdown",
   "id": "c360656e",
   "metadata": {},
   "source": [
    "**Read the radar data**"
   ]
  },
  {
   "cell_type": "code",
   "execution_count": null,
   "id": "61d1e34b",
   "metadata": {},
   "outputs": [],
   "source": [
    "# data_dir = local_vars.radar_file_dir\n",
    "# filename = data_dir + '/2024/06/01/rainbow5/HUR/240km_12ele_DP_PROD011.vol/2024060112000700dBZ.vol'\n",
    "filename = \"../data/01-06-2024/2024060112000700dBZ.vol\""
   ]
  },
  {
   "cell_type": "code",
   "execution_count": null,
   "id": "f5988f4f",
   "metadata": {},
   "outputs": [],
   "source": [
    "def load_all_sweeps(filename):\n",
    "    \"\"\"Load all 12 sweeps for one parameter\"\"\"\n",
    "    sweeps = []\n",
    "    for i in range(12):\n",
    "        ds = xr.open_dataset(filename, group=f\"sweep_{i}\", engine=\"rainbow\")\n",
    "        sweeps.append(ds)\n",
    "    return sweeps\n",
    "\n",
    "sweeps = load_all_sweeps(filename)"
   ]
  },
  {
   "cell_type": "markdown",
   "id": "5b89e606",
   "metadata": {},
   "source": [
    "**Plot lowest elevation**"
   ]
  },
  {
   "cell_type": "code",
   "execution_count": null,
   "id": "b24673ef",
   "metadata": {},
   "outputs": [],
   "source": [
    "range_vals = sweeps[0].range.values      # shape (480,)\n",
    "azimuth_vals = sweeps[0].azimuth.values  # shape (360,) \n",
    "dbzh_vals = sweeps[0].DBZH.values        # shape (360, 480)\n",
    "\n",
    "# Colormap limits\n",
    "vmin, vmax = -60, 60\n",
    "\n",
    "fig, (ax1, ax2) = plt.subplots(1, 2, figsize=(15, 6))\n",
    "\n",
    "# Manual plot with imshow\n",
    "im1 = ax1.imshow(dbzh_vals, \n",
    "                 extent=[range_vals.min(), range_vals.max(), \n",
    "                        azimuth_vals.min(), azimuth_vals.max()],\n",
    "                 aspect='auto', \n",
    "                 origin='lower',\n",
    "                 cmap='seismic',\n",
    "                 vmin=vmin,\n",
    "                 vmax=vmax)\n",
    "ax1.set_xlabel('Range (m)')\n",
    "ax1.set_ylabel('Azimuth (degrees)')\n",
    "ax1.set_title('Manual imshow plot')\n",
    "plt.colorbar(im1, ax=ax1, label='DBZH (dBZ)')\n",
    "\n",
    "# Built-in xarray plot for comparison\n",
    "sweeps[0].DBZH.plot(ax=ax2)\n",
    "ax2.set_title('Built-in xarray plot')\n",
    "\n",
    "plt.tight_layout()\n",
    "plt.show()"
   ]
  },
  {
   "cell_type": "markdown",
   "id": "884ac3b6",
   "metadata": {},
   "source": [
    "**Convert from polar to Cartesian coordinates**"
   ]
  },
  {
   "cell_type": "code",
   "execution_count": null,
   "id": "55fc16ae",
   "metadata": {},
   "outputs": [],
   "source": [
    "def spherical_to_cartesian_3D(sweep):\n",
    "    \"\"\"Convert radar field from spherical to 3D Cartesian coordinates\"\"\"\n",
    "\n",
    "    range_vals = sweep.range.values\n",
    "    azimuth_vals = sweep.azimuth.values\n",
    "    elevation_angle = sweep.sweep_fixed_angle.values\n",
    "\n",
    "    R_mesh, Az_mesh = np.meshgrid(range_vals, azimuth_vals)\n",
    "\n",
    "    phi = np.pi/2 - np.radians(elevation_angle) # Convert to zenith angle\n",
    "    theta = np.radians(Az_mesh)\n",
    "\n",
    "    x = R_mesh * np.sin(phi) * np.sin(theta)\n",
    "    y = R_mesh * np.sin(phi) * np.cos(theta)\n",
    "    z = R_mesh * np.cos(phi)\n",
    "\n",
    "    return x, y, z\n",
    "\n",
    "x, y, z = spherical_to_cartesian_3D(sweeps[0])"
   ]
  },
  {
   "cell_type": "code",
   "execution_count": null,
   "id": "d1dab039",
   "metadata": {},
   "outputs": [],
   "source": [
    "# Plot top view to verify correctness\n",
    "fig, ax = plt.subplots(1, 2, figsize=(15, 6))  \n",
    "# Top view (X-Y plane)\n",
    "scatter1 = ax[0].scatter(x.flatten()/1000, y.flatten()/1000,\n",
    "                     c=sweeps[0].DBZH.values.flatten(), s=0.5, cmap=\"seismic\", vmin=vmin, vmax=vmax)\n",
    "ax[0].set_xlabel('X (km)')\n",
    "ax[0].set_ylabel('Y (km)')\n",
    "ax[0].set_title('Manual view')\n",
    "ax[0].set_aspect('equal')\n",
    "# ax[0].set_xlim([-40,40])\n",
    "# ax[0].set_ylim([-40, 40])\n",
    "\n",
    "# Add colorbar\n",
    "cbar = plt.colorbar(scatter1, ax=ax[0])  \n",
    "cbar.set_label('DBZH (dBZ)')\n",
    "\n",
    "# Verify with built-in plotting routine\n",
    "rd = sweeps[0].xradar.georeference()\n",
    "rd.DBZH.plot(ax=ax[1], x=\"x\", y=\"y\")\n",
    "\n",
    "plt.show()"
   ]
  },
  {
   "cell_type": "code",
   "execution_count": null,
   "id": "7c5a0ca2",
   "metadata": {},
   "outputs": [],
   "source": [
    "# Plot just the coordinate points to see the cone shape\n",
    "fig = plt.figure(figsize=(10, 8))\n",
    "ax = fig.add_subplot(111, projection='3d')\n",
    "\n",
    "# Sample every 10th point to reduce clutter\n",
    "step = 10\n",
    "ax.scatter(x[::step, ::step]/1000, y[::step, ::step]/1000, z[::step, ::step]/1000, s=1)\n",
    "\n",
    "ax.set_xlabel('X (km)')\n",
    "ax.set_ylabel('Y (km)')\n",
    "ax.set_zlabel('Z (km)')\n",
    "ax.set_title('Radar Cone Structure')\n",
    "plt.show()"
   ]
  },
  {
   "cell_type": "code",
   "execution_count": null,
   "id": "aa67e112",
   "metadata": {},
   "outputs": [],
   "source": [
    "# Plot radar cone with radar data\n",
    "from mpl_toolkits.mplot3d import Axes3D\n",
    "\n",
    "# Flatten arrays for scatter plot\n",
    "x_flat = x.flatten()\n",
    "y_flat = y.flatten() \n",
    "z_flat = z.flatten()\n",
    "dbzh_flat = dbzh_vals.flatten()\n",
    "\n",
    "# Remove invalid data\n",
    "valid = ~np.isnan(dbzh_flat)\n",
    "x_valid = x_flat[valid]\n",
    "y_valid = y_flat[valid]\n",
    "z_valid = z_flat[valid]\n",
    "dbzh_valid = dbzh_flat[valid]\n",
    "\n",
    "# Create 3D plot\n",
    "fig = plt.figure(figsize=(12, 10))\n",
    "ax = fig.add_subplot(111, projection='3d')\n",
    "\n",
    "# Radar data (colored by DBZH)\n",
    "scatter = ax.scatter(x_valid/1000, y_valid/1000, z_valid/1000, \n",
    "                    c=dbzh_valid, cmap=\"seismic\", vmin=vmin, vmax=vmax, \n",
    "                    s=2, alpha=0.6)\n",
    "\n",
    "# Grid structure (wireframe - sample every N points)\n",
    "step = 20  # Sample every 20th point to avoid clutter\n",
    "ax.plot_wireframe(x[::step, ::step]/1000, y[::step, ::step]/1000, z[::step, ::step]/1000, \n",
    "                 color='black', alpha=0.3, linewidth=0.5)\n",
    "\n",
    "# Labels and formatting\n",
    "ax.set_xlabel('East-West (km)')\n",
    "ax.set_ylabel('North-South (km)')\n",
    "ax.set_zlabel('Height (km)')\n",
    "ax.set_title(f'Radar Data + Grid Structure - Elevation {sweeps[0].sweep_fixed_angle.values}°')\n",
    "\n",
    "# Set axis limits\n",
    "ax.set_zlim(0, 4)\n",
    "\n",
    "# Add colorbar\n",
    "plt.colorbar(scatter, label='DBZH (dBZ)', shrink=0.8)\n",
    "\n",
    "plt.show()"
   ]
  },
  {
   "cell_type": "markdown",
   "id": "ad80b8bb",
   "metadata": {},
   "source": [
    "**Interpolate data**"
   ]
  },
  {
   "cell_type": "code",
   "execution_count": null,
   "id": "0d48d96e",
   "metadata": {},
   "outputs": [],
   "source": [
    "def aggregate_all_elevations(sweeps, parameter='DBZH'):\n",
    "    \"\"\"Aggregate data from all sweeps (elevations) into one list and convert to Cartesian coordinates.\"\"\"\n",
    "    all_x, all_y, all_z, all_payload = [], [], [], []\n",
    "    for sweep in sweeps:\n",
    "        x, y, z = spherical_to_cartesian_3D(sweep)\n",
    "        payload = sweep[parameter].values\n",
    "        all_x.extend(x.flatten())\n",
    "        all_y.extend(y.flatten())\n",
    "        all_z.extend(z.flatten())\n",
    "        all_payload.extend(payload.flatten())\n",
    "\n",
    "    return np.array(all_x), np.array(all_y), np.array(all_z), np.array(all_payload)\n",
    "\n",
    "all_x, all_y, all_z, all_dbzh = aggregate_all_elevations(sweeps, parameter='DBZH')\n"
   ]
  },
  {
   "cell_type": "code",
   "execution_count": null,
   "id": "c18d25c9",
   "metadata": {},
   "outputs": [],
   "source": [
    "# Load the predefined grid\n",
    "grid = np.load(\"../data/radar_hurum_grid_10x10_8km_spacing.npz\")\n",
    "x_m = grid['x_centers_m']\n",
    "y_m = grid['y_centers_m']\n",
    "z_m = grid['z_levels_m']\n",
    "\n",
    "grid.files"
   ]
  },
  {
   "cell_type": "code",
   "execution_count": null,
   "id": "667e7c41",
   "metadata": {},
   "outputs": [],
   "source": [
    "# Interpolate the data at the grid center points\n",
    "from scipy.interpolate import griddata\n",
    "\n",
    "# Create 3D grid\n",
    "x_grid, y_grid, z_grid = np.meshgrid(x_m, y_m, z_m)\n",
    "\n",
    "# Only use valid data\n",
    "valid = ~np.isnan(all_dbzh)\n",
    "x_valid = all_x[valid]\n",
    "y_valid = all_y[valid]\n",
    "z_valid = all_z[valid]\n",
    "dbzh_valid = all_dbzh[valid]\n",
    "\n",
    "# Do the interpolation\n",
    "grid_values = griddata(points=np.column_stack([x_valid, y_valid, z_valid]),\n",
    "                       values=dbzh_valid,\n",
    "                       xi=np.column_stack([x_grid.flatten(), y_grid.flatten(), z_grid.flatten()]),\n",
    "                       method=\"nearest\")\n",
    "\n",
    "dbzh_interpolated = grid_values.reshape(x_grid.shape)\n"
   ]
  },
  {
   "cell_type": "code",
   "execution_count": null,
   "id": "98a7fc6d",
   "metadata": {},
   "outputs": [],
   "source": [
    "# Visualize altitude slices\n",
    "z_index = [0, 4, 8, 12, 16, 19]\n",
    "\n",
    "fig, axes = plt.subplots(2, 3, figsize=(15, 10))\n",
    "axes = axes.flatten()\n",
    "\n",
    "for i, z in enumerate(z_index):\n",
    "    axes[i].imshow(dbzh_interpolated[:,:,z], \n",
    "                   cmap=\"seismic\", vmin=-60, vmax=60, \n",
    "                   origin=\"lower\",\n",
    "                   extent=[x_m.min()/1000, x_m.max()/1000,  # x-range (East-West)\n",
    "                              y_m.min()/1000, y_m.max()/1000]) \n",
    "    axes[i].set_title(f\"Altitude: {z_m[z]}m\")\n"
   ]
  },
  {
   "cell_type": "code",
   "execution_count": null,
   "id": "ef7348e1",
   "metadata": {},
   "outputs": [],
   "source": [
    "# Plot and save all height profiles\n",
    "for i, z in enumerate(z_m):\n",
    "    fig, ax = plt.subplots(figsize=(10, 10))\n",
    "    im = ax.imshow(dbzh_interpolated[:,:,i],\n",
    "              cmap=\"seismic\", vmin=-60, vmax=60, \n",
    "              origin=\"lower\",\n",
    "              extent=[x_m.min()/1000, x_m.max()/1000,  # x-range (East-West)\n",
    "              y_m.min()/1000, y_m.max()/1000])\n",
    "    ax.set_title(f\"Altitude: {z_m[i]}m\")\n",
    "    cbar = plt.colorbar(im, ax=ax)  \n",
    "    cbar.set_label('DBZH (dBZ)')\n",
    "    plt.savefig(f\"../outputs/interpolated_data/altitude_{z_m[i]}m.png\")\n",
    "    plt.close();\n"
   ]
  },
  {
   "cell_type": "code",
   "execution_count": null,
   "id": "c90c9977",
   "metadata": {},
   "outputs": [],
   "source": [
    "# Compare the top view of lowest elevation sweep and the lowest altitude interpolation\n",
    "x, y, z = spherical_to_cartesian_3D(sweeps[0])\n",
    "\n",
    "# Plot top view to verify correctness\n",
    "fig, ax = plt.subplots(1, 2, figsize=(15, 6))  \n",
    "# Top view (X-Y plane)\n",
    "scatter1 = ax[0].scatter(x.flatten()/1000, y.flatten()/1000,\n",
    "                     c=sweeps[0].DBZH.values.flatten(), s=0.5, cmap=\"seismic\", vmin=vmin, vmax=vmax)\n",
    "ax[0].set_xlabel('X (km)')\n",
    "ax[0].set_ylabel('Y (km)')\n",
    "ax[0].set_title('Lowest elevation cone top view')\n",
    "ax[0].set_aspect('equal')\n",
    "ax[0].set_xlim([-40,40])\n",
    "ax[0].set_ylim([-40, 40])\n",
    "\n",
    "ax[1].imshow(dbzh_interpolated[:,:,0], \n",
    "                   cmap=\"seismic\", vmin=-60, vmax=60, \n",
    "                   origin=\"lower\",\n",
    "                   extent=[x_m.min()/1000, x_m.max()/1000,  # x-range (East-West)\n",
    "                              y_m.min()/1000, y_m.max()/1000])\n",
    "ax[1].set_title(\"Interpolation at lowest altitue\")\n",
    "plt.savefig(\"../outputs/comparison.png\")"
   ]
  },
  {
   "cell_type": "code",
   "execution_count": null,
   "id": "c78b6349",
   "metadata": {},
   "outputs": [],
   "source": [
    "fig, ax = plt.subplots(1,1, figsize=(10,10))\n",
    "scatter1 = ax.scatter(x.flatten()/1000, y.flatten()/1000,\n",
    "                     c=sweeps[0].DBZH.values.flatten(), s=0.5, cmap=\"seismic\", vmin=vmin, vmax=vmax)\n",
    "ax.set_xlabel('X (km)')\n",
    "ax.set_ylabel('Y (km)')\n",
    "ax.set_title('Lowest elevation cone top view')\n",
    "ax.set_aspect('equal')\n",
    "ax.set_xlim([-40,40])\n",
    "ax.set_ylim([-40, 40])\n",
    "plt.savefig(\"../outputs/comp_cone_top_view.png\")\n",
    "plt.show()\n",
    "\n",
    "fig, ax = plt.subplots(1,1, figsize=(10,10))\n",
    "ax.imshow(dbzh_interpolated[:,:,0], \n",
    "                   cmap=\"seismic\", vmin=-60, vmax=60, \n",
    "                   origin=\"lower\",\n",
    "                   extent=[x_m.min()/1000, x_m.max()/1000,  # x-range (East-West)\n",
    "                              y_m.min()/1000, y_m.max()/1000])\n",
    "ax.set_title(\"Interpolation at lowest altitue\")\n",
    "plt.savefig(\"../outputs/comp_interpolation_low_altitude.png\")\n",
    "plt.show()\n"
   ]
  },
  {
   "cell_type": "code",
   "execution_count": null,
   "id": "46c25bee",
   "metadata": {},
   "outputs": [],
   "source": []
  },
  {
   "cell_type": "code",
   "execution_count": null,
   "id": "e4206a45",
   "metadata": {},
   "outputs": [],
   "source": []
  },
  {
   "cell_type": "code",
   "execution_count": null,
   "id": "1af7b397",
   "metadata": {},
   "outputs": [],
   "source": []
  },
  {
   "cell_type": "code",
   "execution_count": null,
   "id": "f404bd63",
   "metadata": {},
   "outputs": [],
   "source": []
  },
  {
   "cell_type": "code",
   "execution_count": null,
   "id": "9caac580",
   "metadata": {},
   "outputs": [],
   "source": []
  },
  {
   "cell_type": "code",
   "execution_count": null,
   "id": "6375414e",
   "metadata": {},
   "outputs": [],
   "source": []
  },
  {
   "cell_type": "code",
   "execution_count": null,
   "id": "2e7f3a8a",
   "metadata": {},
   "outputs": [],
   "source": []
  },
  {
   "cell_type": "code",
   "execution_count": null,
   "id": "db9c6a83",
   "metadata": {},
   "outputs": [],
   "source": []
  },
  {
   "cell_type": "code",
   "execution_count": null,
   "id": "3813bbac",
   "metadata": {},
   "outputs": [],
   "source": []
  }
 ],
 "metadata": {
  "kernelspec": {
   "display_name": "pythom",
   "language": "python",
   "name": "python3"
  },
  "language_info": {
   "codemirror_mode": {
    "name": "ipython",
    "version": 3
   },
   "file_extension": ".py",
   "mimetype": "text/x-python",
   "name": "python",
   "nbconvert_exporter": "python",
   "pygments_lexer": "ipython3",
   "version": "3.11.11"
  }
 },
 "nbformat": 4,
 "nbformat_minor": 5
}
